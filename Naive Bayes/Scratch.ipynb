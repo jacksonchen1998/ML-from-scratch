{
 "cells": [
  {
   "attachments": {},
   "cell_type": "markdown",
   "metadata": {},
   "source": [
    "# Naive Bayes Classifier from Scratch\n",
    "## Import some library that we need"
   ]
  },
  {
   "cell_type": "code",
   "execution_count": 14,
   "metadata": {},
   "outputs": [],
   "source": [
    "import pandas as pd\n",
    "import numpy as np\n",
    "import re"
   ]
  },
  {
   "attachments": {},
   "cell_type": "markdown",
   "metadata": {},
   "source": [
    "## Initialize the data\n",
    "\n",
    "Data is used to classify spam or not spam email. The data is taken from [here](https://archive.ics.uci.edu/ml/datasets/spambase)."
   ]
  },
  {
   "cell_type": "code",
   "execution_count": 15,
   "metadata": {},
   "outputs": [
    {
     "data": {
      "text/html": [
       "<div>\n",
       "<style scoped>\n",
       "    .dataframe tbody tr th:only-of-type {\n",
       "        vertical-align: middle;\n",
       "    }\n",
       "\n",
       "    .dataframe tbody tr th {\n",
       "        vertical-align: top;\n",
       "    }\n",
       "\n",
       "    .dataframe thead th {\n",
       "        text-align: right;\n",
       "    }\n",
       "</style>\n",
       "<table border=\"1\" class=\"dataframe\">\n",
       "  <thead>\n",
       "    <tr style=\"text-align: right;\">\n",
       "      <th></th>\n",
       "      <th>text</th>\n",
       "      <th>spam</th>\n",
       "    </tr>\n",
       "  </thead>\n",
       "  <tbody>\n",
       "    <tr>\n",
       "      <th>0</th>\n",
       "      <td>Subject: naturally irresistible your corporate...</td>\n",
       "      <td>1</td>\n",
       "    </tr>\n",
       "    <tr>\n",
       "      <th>1</th>\n",
       "      <td>Subject: the stock trading gunslinger  fanny i...</td>\n",
       "      <td>1</td>\n",
       "    </tr>\n",
       "    <tr>\n",
       "      <th>2</th>\n",
       "      <td>Subject: unbelievable new homes made easy  im ...</td>\n",
       "      <td>1</td>\n",
       "    </tr>\n",
       "    <tr>\n",
       "      <th>3</th>\n",
       "      <td>Subject: 4 color printing special  request add...</td>\n",
       "      <td>1</td>\n",
       "    </tr>\n",
       "    <tr>\n",
       "      <th>4</th>\n",
       "      <td>Subject: do not have money , get software cds ...</td>\n",
       "      <td>1</td>\n",
       "    </tr>\n",
       "    <tr>\n",
       "      <th>...</th>\n",
       "      <td>...</td>\n",
       "      <td>...</td>\n",
       "    </tr>\n",
       "    <tr>\n",
       "      <th>5723</th>\n",
       "      <td>Subject: re : research and development charges...</td>\n",
       "      <td>0</td>\n",
       "    </tr>\n",
       "    <tr>\n",
       "      <th>5724</th>\n",
       "      <td>Subject: re : receipts from visit  jim ,  than...</td>\n",
       "      <td>0</td>\n",
       "    </tr>\n",
       "    <tr>\n",
       "      <th>5725</th>\n",
       "      <td>Subject: re : enron case study update  wow ! a...</td>\n",
       "      <td>0</td>\n",
       "    </tr>\n",
       "    <tr>\n",
       "      <th>5726</th>\n",
       "      <td>Subject: re : interest  david ,  please , call...</td>\n",
       "      <td>0</td>\n",
       "    </tr>\n",
       "    <tr>\n",
       "      <th>5727</th>\n",
       "      <td>Subject: news : aurora 5 . 2 update  aurora ve...</td>\n",
       "      <td>0</td>\n",
       "    </tr>\n",
       "  </tbody>\n",
       "</table>\n",
       "<p>5728 rows × 2 columns</p>\n",
       "</div>"
      ],
      "text/plain": [
       "                                                   text  spam\n",
       "0     Subject: naturally irresistible your corporate...     1\n",
       "1     Subject: the stock trading gunslinger  fanny i...     1\n",
       "2     Subject: unbelievable new homes made easy  im ...     1\n",
       "3     Subject: 4 color printing special  request add...     1\n",
       "4     Subject: do not have money , get software cds ...     1\n",
       "...                                                 ...   ...\n",
       "5723  Subject: re : research and development charges...     0\n",
       "5724  Subject: re : receipts from visit  jim ,  than...     0\n",
       "5725  Subject: re : enron case study update  wow ! a...     0\n",
       "5726  Subject: re : interest  david ,  please , call...     0\n",
       "5727  Subject: news : aurora 5 . 2 update  aurora ve...     0\n",
       "\n",
       "[5728 rows x 2 columns]"
      ]
     },
     "execution_count": 15,
     "metadata": {},
     "output_type": "execute_result"
    }
   ],
   "source": [
    "# Preparing the data for Naive Bayes\n",
    "spam_dataframe = pd.read_csv('./emails.csv')\n",
    "spam_dataframe"
   ]
  },
  {
   "cell_type": "code",
   "execution_count": 16,
   "metadata": {},
   "outputs": [
    {
     "name": "stdout",
     "output_type": "stream",
     "text": [
      "Spam Probability:  0.2388268156424581\n",
      "Ham Probability:  0.7611731843575419\n"
     ]
    }
   ],
   "source": [
    "# calculating the probability of spam and ham\n",
    "spam_probability = len(spam_dataframe[spam_dataframe['spam'] == 1]) / len(spam_dataframe)\n",
    "ham_probability = len(spam_dataframe[spam_dataframe['spam'] == 0]) / len(spam_dataframe)\n",
    "\n",
    "print('Spam Probability: ', spam_probability)\n",
    "print('Ham Probability: ', ham_probability)"
   ]
  },
  {
   "cell_type": "markdown",
   "metadata": {},
   "source": [
    "## Preprocessing\n",
    "\n",
    "Using [CountVectorizer](https://scikit-learn.org/stable/modules/generated/sklearn.feature_extraction.text.CountVectorizer.html) to convert text into a matrix of token counts.\n",
    "\n",
    "The result of the preprocessing is a matrix of token counts and a list of vocabulary.\n",
    "\n",
    "### preprocess_text\n",
    "\n",
    "This function is used to preprocess text. It will remove punctuation, stopwords, and convert text into lowercase.\n",
    "\n",
    "### build_vocabulary\n",
    "\n",
    "This function is used to build vocabulary from the text. It will return a dictionary of vocabulary.\n",
    "\n",
    "### convert_text_to_vector\n",
    "\n",
    "This function is used to convert text into a vector. It will return a vector of text."
   ]
  },
  {
   "cell_type": "code",
   "execution_count": 17,
   "metadata": {},
   "outputs": [],
   "source": [
    "# Text preprocessing function\n",
    "def preprocess_text(text):\n",
    "    text = text.lower()\n",
    "    text = re.sub(r'[^\\w\\s]', '', text)\n",
    "    tokens = text.split()\n",
    "    return ' '.join(tokens)\n",
    "\n",
    "def build_vocabulary(texts):\n",
    "    vocabulary = set()\n",
    "    for text in texts:\n",
    "        tokens = text.split()\n",
    "        vocabulary.update(tokens)\n",
    "    return list(vocabulary)\n",
    "\n",
    "def create_bow(texts, vocabulary):\n",
    "    bow_matrix = []\n",
    "    for text in texts:\n",
    "        tokens = text.split()\n",
    "        bow_vector = [tokens.count(word) for word in vocabulary]\n",
    "        bow_matrix.append(bow_vector)\n",
    "    return bow_matrix"
   ]
  },
  {
   "cell_type": "code",
   "execution_count": 18,
   "metadata": {},
   "outputs": [],
   "source": [
    "# Preprocess the text data\n",
    "preprocessed_texts = [preprocess_text(text) for text in spam_dataframe['text']]\n",
    "\n",
    "# Build vocabulary\n",
    "vocabulary = build_vocabulary(preprocessed_texts)\n",
    "\n",
    "# Create Bag of Words (BoW) representation\n",
    "bow_matrix = create_bow(preprocessed_texts, vocabulary)\n",
    "\n",
    "# Convert bow_matrix to a NumPy array\n",
    "X = np.array(bow_matrix)\n",
    "y = np.array(spam_dataframe['spam'])"
   ]
  },
  {
   "cell_type": "code",
   "execution_count": 19,
   "metadata": {},
   "outputs": [],
   "source": [
    "# Split the data into train and test sets 0.8/0.2\n",
    "X_train = X[:int(len(X) * 0.8)]\n",
    "X_test = X[int(len(X) * 0.8):]\n",
    "y_train = y[:int(len(y) * 0.8)]\n",
    "y_test = y[int(len(y) * 0.8):]"
   ]
  },
  {
   "cell_type": "markdown",
   "metadata": {},
   "source": [
    "## Using Naive Bayes Classifier"
   ]
  },
  {
   "cell_type": "markdown",
   "metadata": {},
   "source": [
    "The Naive Bayes Classifier is used to classify spam or not spam email. \n",
    "\n",
    "The Naive Bayes Classifier is implemented from scratch.\n",
    "\n",
    "### train\n",
    "\n",
    "This function is used to train the Naive Bayes Classifier. It will return a dictionary of probability.\n",
    "\n",
    "Mathematically, the probability is calculated as follows:\n",
    "\n",
    "$$P(y) = \\frac{count(y)}{count(Y)}$$\n",
    "\n",
    "$$P(x_i|y) = \\frac{count(x_i, y)}{count(y)}$$\n",
    "\n",
    "### predict\n",
    "\n",
    "This function is used to predict the class of the data. It will return a list of prediction.\n",
    "\n",
    "Mathematically, the probability is calculated as follows:\n",
    "\n",
    "$$P(y|x_1, x_2, ..., x_n) = \\frac{P(y) \\times P(x_1|y) \\times P(x_2|y) \\times ... \\times P(x_n|y)}{P(x_1) \\times P(x_2) \\times ... \\times P(x_n)}$$\n",
    "\n",
    "$$P(y|x_1, x_2, ..., x_n) = P(y) \\times P(x_1|y) \\times P(x_2|y) \\times ... \\times P(x_n|y)$$\n",
    "\n",
    "$$P(y|x_1, x_2, ..., x_n) = log(P(y)) + log(P(x_1|y)) + log(P(x_2|y)) + ... + log(P(x_n|y))$$"
   ]
  },
  {
   "cell_type": "code",
   "execution_count": 20,
   "metadata": {},
   "outputs": [],
   "source": [
    "# Naive Bayes implementation from scratch\n",
    "class CustomMultinomialNB:\n",
    "    def __init__(self, alpha=1):\n",
    "        self.alpha = alpha\n",
    "\n",
    "    def fit(self, X, y):\n",
    "        self.X = X\n",
    "        self.y = y\n",
    "        self.classes = np.unique(y)\n",
    "        self.parameters = {}\n",
    "        for i, c in enumerate(self.classes):\n",
    "            X_c = X[np.where(y == c)]\n",
    "            self.parameters[\"phi_\" + str(c)] = len(X_c) / len(X)\n",
    "            self.parameters[\"theta_\" + str(c)] = (X_c.sum(axis=0) + self.alpha) / (np.sum(X_c.sum(axis=0) + self.alpha))\n",
    "\n",
    "    def predict(self, X):\n",
    "        predictions = []\n",
    "        for x in X:\n",
    "            phi_list = []\n",
    "            for i, c in enumerate(self.classes):\n",
    "                phi = np.log(self.parameters[\"phi_\" + str(c)])\n",
    "                theta = np.sum(np.log(self.parameters[\"theta_\" + str(c)]) * x)\n",
    "                phi_list.append(phi + theta)\n",
    "            predictions.append(self.classes[np.argmax(phi_list)])\n",
    "        return predictions"
   ]
  },
  {
   "cell_type": "code",
   "execution_count": 21,
   "metadata": {},
   "outputs": [],
   "source": [
    "NB_classifier=CustomMultinomialNB()\n",
    "NB_classifier.fit(X_train,y_train)"
   ]
  },
  {
   "cell_type": "code",
   "execution_count": 22,
   "metadata": {},
   "outputs": [],
   "source": [
    "y_predict_test=NB_classifier.predict(X_test)"
   ]
  },
  {
   "cell_type": "markdown",
   "metadata": {},
   "source": [
    "## Evaluation\n",
    "\n",
    "Originally, we use classification_report from sklearn.metrics to evaluate the model.\n",
    "\n",
    "Here, we just calculate the accuracy of the model."
   ]
  },
  {
   "cell_type": "code",
   "execution_count": 23,
   "metadata": {},
   "outputs": [
    {
     "name": "stdout",
     "output_type": "stream",
     "text": [
      "Accuracy:  0.9912739965095986\n"
     ]
    }
   ],
   "source": [
    "# accuracy\n",
    "print('Accuracy: ', np.sum(y_predict_test == y_test) / len(y_test))"
   ]
  }
 ],
 "metadata": {
  "kernelspec": {
   "display_name": "Python 3",
   "language": "python",
   "name": "python3"
  },
  "language_info": {
   "codemirror_mode": {
    "name": "ipython",
    "version": 3
   },
   "file_extension": ".py",
   "mimetype": "text/x-python",
   "name": "python",
   "nbconvert_exporter": "python",
   "pygments_lexer": "ipython3",
   "version": "3.9.13"
  },
  "orig_nbformat": 4,
  "vscode": {
   "interpreter": {
    "hash": "82ed002fa2d4956f5c6aec99bcefe0f73a9f79882f3c9e2319b14958a5896ac5"
   }
  }
 },
 "nbformat": 4,
 "nbformat_minor": 2
}
