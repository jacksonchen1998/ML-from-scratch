{
 "cells": [
  {
   "cell_type": "code",
   "execution_count": 1,
   "id": "8d08f347",
   "metadata": {
    "execution": {
     "iopub.execute_input": "2023-08-23T07:53:56.439525Z",
     "iopub.status.busy": "2023-08-23T07:53:56.438662Z",
     "iopub.status.idle": "2023-08-23T07:53:56.448692Z",
     "shell.execute_reply": "2023-08-23T07:53:56.447951Z"
    },
    "papermill": {
     "duration": 0.017265,
     "end_time": "2023-08-23T07:53:56.450888",
     "exception": false,
     "start_time": "2023-08-23T07:53:56.433623",
     "status": "completed"
    },
    "tags": []
   },
   "outputs": [],
   "source": [
    "import pandas as pd\n",
    "import numpy as np"
   ]
  },
  {
   "cell_type": "code",
   "execution_count": 2,
   "id": "71d298a3",
   "metadata": {
    "execution": {
     "iopub.execute_input": "2023-08-23T07:53:56.458518Z",
     "iopub.status.busy": "2023-08-23T07:53:56.457902Z",
     "iopub.status.idle": "2023-08-23T07:53:56.510818Z",
     "shell.execute_reply": "2023-08-23T07:53:56.509748Z"
    },
    "papermill": {
     "duration": 0.059255,
     "end_time": "2023-08-23T07:53:56.513174",
     "exception": false,
     "start_time": "2023-08-23T07:53:56.453919",
     "status": "completed"
    },
    "tags": []
   },
   "outputs": [],
   "source": [
    "# Load the dataset\n",
    "train_data = pd.read_csv('/kaggle/input/titanic/train.csv')\n",
    "test_data = pd.read_csv('/kaggle/input/titanic/test.csv')\n",
    "\n",
    "# Select relevant columns and drop rows with missing values\n",
    "train_data = train_data[['Pclass', 'Sex', 'Age', 'Fare', 'Survived']].dropna()\n",
    "test_data = test_data[['Pclass', 'Sex', 'Age', 'Fare']]\n",
    "\n",
    "# Convert 'Sex' column to numeric values (e.g., Male: 0, Female: 1)\n",
    "train_data['Sex'] = train_data['Sex'].map({'male': 0, 'female': 1})\n",
    "test_data['Sex'] = test_data['Sex'].map({'male': 0, 'female': 1})\n",
    "\n",
    "# Separate features and target for training data\n",
    "X_train = train_data[['Pclass', 'Sex', 'Age', 'Fare']].values\n",
    "y_train = train_data['Survived'].values"
   ]
  },
  {
   "cell_type": "code",
   "execution_count": 3,
   "id": "3a85ab51",
   "metadata": {
    "execution": {
     "iopub.execute_input": "2023-08-23T07:53:56.521194Z",
     "iopub.status.busy": "2023-08-23T07:53:56.520407Z",
     "iopub.status.idle": "2023-08-23T07:53:56.528078Z",
     "shell.execute_reply": "2023-08-23T07:53:56.526381Z"
    },
    "papermill": {
     "duration": 0.014045,
     "end_time": "2023-08-23T07:53:56.530463",
     "exception": false,
     "start_time": "2023-08-23T07:53:56.516418",
     "status": "completed"
    },
    "tags": []
   },
   "outputs": [],
   "source": [
    "class CustomFeatureTransformer:\n",
    "    def __init__(self, degree, is_bias=True):\n",
    "        self.is_bias = is_bias\n",
    "        self.degree = degree\n",
    "    \n",
    "    def transform(self, x = None):\n",
    "        if x is None:\n",
    "            raise ValueError('x is None')\n",
    "        if self.is_bias:\n",
    "            x = np.c_[np.ones(x.shape[0]), x]\n",
    "        for i in range(2, self.degree + 1):\n",
    "            x = np.c_[x, x[:, 1] ** i]\n",
    "        return x\n",
    "    \n",
    "    def fit_transform(self, x):\n",
    "        return self.transform(x)"
   ]
  },
  {
   "cell_type": "code",
   "execution_count": 4,
   "id": "fee08a4e",
   "metadata": {
    "execution": {
     "iopub.execute_input": "2023-08-23T07:53:56.538072Z",
     "iopub.status.busy": "2023-08-23T07:53:56.537711Z",
     "iopub.status.idle": "2023-08-23T07:53:56.544712Z",
     "shell.execute_reply": "2023-08-23T07:53:56.543392Z"
    },
    "papermill": {
     "duration": 0.013231,
     "end_time": "2023-08-23T07:53:56.546604",
     "exception": false,
     "start_time": "2023-08-23T07:53:56.533373",
     "status": "completed"
    },
    "tags": []
   },
   "outputs": [],
   "source": [
    "class CustomLinearRegression:\n",
    "    def __init__(self):\n",
    "        self.w = None\n",
    "    \n",
    "    def fit(self, x, y):\n",
    "        self.w = np.linalg.inv(x.T.dot(x)).dot(x.T).dot(y)\n",
    "    \n",
    "    def predict(self, x):\n",
    "        return x.dot(self.w)\n",
    "    \n",
    "    def score(self, x, y):\n",
    "        y_pred = self.predict(x)\n",
    "        return 1 - ((y - y_pred)**2).sum() / ((y - y.mean())**2).sum()"
   ]
  },
  {
   "cell_type": "code",
   "execution_count": 5,
   "id": "44856048",
   "metadata": {
    "execution": {
     "iopub.execute_input": "2023-08-23T07:53:56.553577Z",
     "iopub.status.busy": "2023-08-23T07:53:56.552969Z",
     "iopub.status.idle": "2023-08-23T07:53:56.560181Z",
     "shell.execute_reply": "2023-08-23T07:53:56.558831Z"
    },
    "papermill": {
     "duration": 0.013474,
     "end_time": "2023-08-23T07:53:56.562705",
     "exception": false,
     "start_time": "2023-08-23T07:53:56.549231",
     "status": "completed"
    },
    "tags": []
   },
   "outputs": [],
   "source": [
    "class CustomStandardScaler:\n",
    "    def __init__(self):\n",
    "        self.mean = None\n",
    "        self.std = None\n",
    "        \n",
    "    def fit(self, X):\n",
    "        self.mean = np.mean(X, axis=0)\n",
    "        self.std = np.std(X, axis=0)\n",
    "        \n",
    "    def transform(self, X):\n",
    "        if self.mean is None or self.std is None:\n",
    "            raise ValueError(\"Scaler has not been fitted. Call fit() before transform().\")\n",
    "            \n",
    "        X_normalized = (X - self.mean) / self.std\n",
    "        return X_normalized\n",
    "    \n",
    "    def fit_transform(self, X):\n",
    "        self.fit(X)\n",
    "        return self.transform(X)"
   ]
  },
  {
   "cell_type": "code",
   "execution_count": 6,
   "id": "84c39a09",
   "metadata": {
    "execution": {
     "iopub.execute_input": "2023-08-23T07:53:56.570256Z",
     "iopub.status.busy": "2023-08-23T07:53:56.569921Z",
     "iopub.status.idle": "2023-08-23T07:53:56.582789Z",
     "shell.execute_reply": "2023-08-23T07:53:56.581925Z"
    },
    "papermill": {
     "duration": 0.021501,
     "end_time": "2023-08-23T07:53:56.587036",
     "exception": false,
     "start_time": "2023-08-23T07:53:56.565535",
     "status": "completed"
    },
    "tags": []
   },
   "outputs": [],
   "source": [
    "# Feature scaling\n",
    "scaler = CustomStandardScaler()\n",
    "X_train_scaled = scaler.fit_transform(X_train)\n",
    "\n",
    "# Polynomial transformation\n",
    "degree = 2\n",
    "poly = CustomFeatureTransformer(degree=degree, is_bias=True)\n",
    "X_train_poly = poly.fit_transform(X_train_scaled)\n",
    "\n",
    "# Initialize and train the model\n",
    "model = CustomLinearRegression()\n",
    "model.fit(X_train_poly, y_train)"
   ]
  },
  {
   "cell_type": "code",
   "execution_count": 7,
   "id": "d0615001",
   "metadata": {
    "execution": {
     "iopub.execute_input": "2023-08-23T07:53:56.595623Z",
     "iopub.status.busy": "2023-08-23T07:53:56.595258Z",
     "iopub.status.idle": "2023-08-23T07:53:56.607671Z",
     "shell.execute_reply": "2023-08-23T07:53:56.606920Z"
    },
    "papermill": {
     "duration": 0.019363,
     "end_time": "2023-08-23T07:53:56.609993",
     "exception": false,
     "start_time": "2023-08-23T07:53:56.590630",
     "status": "completed"
    },
    "tags": []
   },
   "outputs": [],
   "source": [
    "# Preprocess test data and make predictions\n",
    "X_test = test_data[['Pclass', 'Sex', 'Age', 'Fare']].values\n",
    "\n",
    "# Handle missing values in the test set\n",
    "X_test = pd.DataFrame(X_test, columns=['Pclass', 'Sex', 'Age', 'Fare'])\n",
    "X_test['Age'].fillna(X_test['Age'].median(), inplace=True)\n",
    "X_test['Fare'].fillna(X_test['Fare'].median(), inplace=True)\n",
    "\n",
    "X_test_scaled = scaler.transform(X_test)\n",
    "X_test_poly = poly.transform(X_test_scaled)\n",
    "predictions = model.predict(X_test_poly)"
   ]
  },
  {
   "cell_type": "code",
   "execution_count": 8,
   "id": "3664b78c",
   "metadata": {
    "execution": {
     "iopub.execute_input": "2023-08-23T07:53:56.618580Z",
     "iopub.status.busy": "2023-08-23T07:53:56.618221Z",
     "iopub.status.idle": "2023-08-23T07:53:56.631894Z",
     "shell.execute_reply": "2023-08-23T07:53:56.631035Z"
    },
    "papermill": {
     "duration": 0.020725,
     "end_time": "2023-08-23T07:53:56.634249",
     "exception": false,
     "start_time": "2023-08-23T07:53:56.613524",
     "status": "completed"
    },
    "tags": []
   },
   "outputs": [],
   "source": [
    "test_data = pd.read_csv('/kaggle/input/titanic/test.csv')\n",
    "\n",
    "predictions = predictions.round().astype(int)\n",
    "\n",
    "# Create submission DataFrame\n",
    "submission_df = pd.DataFrame({\n",
    "    'PassengerId': test_data['PassengerId'],  # Assuming 'PassengerId' is the column name in test data\n",
    "    'Survived': predictions\n",
    "})\n",
    "\n",
    "# Save submission to CSV\n",
    "submission_df.to_csv('submission.csv', index=False)"
   ]
  },
  {
   "cell_type": "code",
   "execution_count": 9,
   "id": "6704800f",
   "metadata": {
    "execution": {
     "iopub.execute_input": "2023-08-23T07:53:56.642332Z",
     "iopub.status.busy": "2023-08-23T07:53:56.641979Z",
     "iopub.status.idle": "2023-08-23T07:53:56.657578Z",
     "shell.execute_reply": "2023-08-23T07:53:56.656682Z"
    },
    "papermill": {
     "duration": 0.022044,
     "end_time": "2023-08-23T07:53:56.659654",
     "exception": false,
     "start_time": "2023-08-23T07:53:56.637610",
     "status": "completed"
    },
    "tags": []
   },
   "outputs": [
    {
     "data": {
      "text/html": [
       "<div>\n",
       "<style scoped>\n",
       "    .dataframe tbody tr th:only-of-type {\n",
       "        vertical-align: middle;\n",
       "    }\n",
       "\n",
       "    .dataframe tbody tr th {\n",
       "        vertical-align: top;\n",
       "    }\n",
       "\n",
       "    .dataframe thead th {\n",
       "        text-align: right;\n",
       "    }\n",
       "</style>\n",
       "<table border=\"1\" class=\"dataframe\">\n",
       "  <thead>\n",
       "    <tr style=\"text-align: right;\">\n",
       "      <th></th>\n",
       "      <th>PassengerId</th>\n",
       "      <th>Survived</th>\n",
       "    </tr>\n",
       "  </thead>\n",
       "  <tbody>\n",
       "    <tr>\n",
       "      <th>0</th>\n",
       "      <td>892</td>\n",
       "      <td>0</td>\n",
       "    </tr>\n",
       "    <tr>\n",
       "      <th>1</th>\n",
       "      <td>893</td>\n",
       "      <td>0</td>\n",
       "    </tr>\n",
       "    <tr>\n",
       "      <th>2</th>\n",
       "      <td>894</td>\n",
       "      <td>0</td>\n",
       "    </tr>\n",
       "    <tr>\n",
       "      <th>3</th>\n",
       "      <td>895</td>\n",
       "      <td>0</td>\n",
       "    </tr>\n",
       "    <tr>\n",
       "      <th>4</th>\n",
       "      <td>896</td>\n",
       "      <td>1</td>\n",
       "    </tr>\n",
       "    <tr>\n",
       "      <th>...</th>\n",
       "      <td>...</td>\n",
       "      <td>...</td>\n",
       "    </tr>\n",
       "    <tr>\n",
       "      <th>413</th>\n",
       "      <td>1305</td>\n",
       "      <td>0</td>\n",
       "    </tr>\n",
       "    <tr>\n",
       "      <th>414</th>\n",
       "      <td>1306</td>\n",
       "      <td>1</td>\n",
       "    </tr>\n",
       "    <tr>\n",
       "      <th>415</th>\n",
       "      <td>1307</td>\n",
       "      <td>0</td>\n",
       "    </tr>\n",
       "    <tr>\n",
       "      <th>416</th>\n",
       "      <td>1308</td>\n",
       "      <td>0</td>\n",
       "    </tr>\n",
       "    <tr>\n",
       "      <th>417</th>\n",
       "      <td>1309</td>\n",
       "      <td>0</td>\n",
       "    </tr>\n",
       "  </tbody>\n",
       "</table>\n",
       "<p>418 rows × 2 columns</p>\n",
       "</div>"
      ],
      "text/plain": [
       "     PassengerId  Survived\n",
       "0            892         0\n",
       "1            893         0\n",
       "2            894         0\n",
       "3            895         0\n",
       "4            896         1\n",
       "..           ...       ...\n",
       "413         1305         0\n",
       "414         1306         1\n",
       "415         1307         0\n",
       "416         1308         0\n",
       "417         1309         0\n",
       "\n",
       "[418 rows x 2 columns]"
      ]
     },
     "execution_count": 9,
     "metadata": {},
     "output_type": "execute_result"
    }
   ],
   "source": [
    "submission_df"
   ]
  }
 ],
 "metadata": {
  "kernelspec": {
   "display_name": "Python 3",
   "language": "python",
   "name": "python3"
  },
  "language_info": {
   "codemirror_mode": {
    "name": "ipython",
    "version": 3
   },
   "file_extension": ".py",
   "mimetype": "text/x-python",
   "name": "python",
   "nbconvert_exporter": "python",
   "pygments_lexer": "ipython3",
   "version": "3.10.12"
  },
  "papermill": {
   "default_parameters": {},
   "duration": 9.702547,
   "end_time": "2023-08-23T07:53:57.483825",
   "environment_variables": {},
   "exception": null,
   "input_path": "__notebook__.ipynb",
   "output_path": "__notebook__.ipynb",
   "parameters": {},
   "start_time": "2023-08-23T07:53:47.781278",
   "version": "2.4.0"
  }
 },
 "nbformat": 4,
 "nbformat_minor": 5
}
